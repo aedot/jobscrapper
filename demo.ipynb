{
 "cells": [
  {
   "cell_type": "code",
   "execution_count": 1,
   "id": "2118c9c1-b541-4ac0-8d78-4c4332edb829",
   "metadata": {},
   "outputs": [],
   "source": [
    "import job_scraper\n",
    "from job_scraper import find_jobs_from"
   ]
  },
  {
   "cell_type": "code",
   "execution_count": 2,
   "id": "cd10e9f7-cdf6-4252-8fb4-aabfad07b282",
   "metadata": {},
   "outputs": [],
   "source": [
    "desired_characs = ['titles', 'companies', 'links', 'date_listed']"
   ]
  },
  {
   "cell_type": "code",
   "execution_count": 3,
   "id": "d17f0ea6-4c0f-40b1-993e-8c9bf4e1200f",
   "metadata": {},
   "outputs": [
    {
     "ename": "CloudflareChallengeError",
     "evalue": "Detected a Cloudflare version 2 Captcha challenge, This feature is not available in the opensource (free) version.",
     "output_type": "error",
     "traceback": [
      "\u001b[0;31m---------------------------------------------------------------------------\u001b[0m",
      "\u001b[0;31mCloudflareChallengeError\u001b[0m                  Traceback (most recent call last)",
      "Cell \u001b[0;32mIn [3], line 1\u001b[0m\n\u001b[0;32m----> 1\u001b[0m \u001b[43mfind_jobs_from\u001b[49m\u001b[43m(\u001b[49m\u001b[38;5;124;43m'\u001b[39;49m\u001b[38;5;124;43mIndeed\u001b[39;49m\u001b[38;5;124;43m'\u001b[39;49m\u001b[43m,\u001b[49m\u001b[43m \u001b[49m\u001b[38;5;124;43m'\u001b[39;49m\u001b[38;5;124;43mmicrobiologist\u001b[39;49m\u001b[38;5;124;43m'\u001b[39;49m\u001b[43m,\u001b[49m\u001b[43m \u001b[49m\u001b[38;5;124;43m'\u001b[39;49m\u001b[38;5;124;43manaheim\u001b[39;49m\u001b[38;5;124;43m'\u001b[39;49m\u001b[43m,\u001b[49m\u001b[43m \u001b[49m\u001b[43mdesired_characs\u001b[49m\u001b[43m)\u001b[49m\n",
      "File \u001b[0;32m~/jobscrapper/job_scraper.py:17\u001b[0m, in \u001b[0;36mfind_jobs_from\u001b[0;34m(website, job_title, location, desired_characs, filename)\u001b[0m\n\u001b[1;32m     14\u001b[0m \u001b[38;5;28;01mdef\u001b[39;00m \u001b[38;5;21mfind_jobs_from\u001b[39m(website, job_title, location, desired_characs, filename\u001b[38;5;241m=\u001b[39m\u001b[38;5;124m\"\u001b[39m\u001b[38;5;124mresults.xls\u001b[39m\u001b[38;5;124m\"\u001b[39m):\n\u001b[1;32m     16\u001b[0m     \u001b[38;5;28;01mif\u001b[39;00m website \u001b[38;5;241m==\u001b[39m \u001b[38;5;124m'\u001b[39m\u001b[38;5;124mIndeed\u001b[39m\u001b[38;5;124m'\u001b[39m:\n\u001b[0;32m---> 17\u001b[0m         job_soup \u001b[38;5;241m=\u001b[39m \u001b[43mload_indeed_jobs_div\u001b[49m\u001b[43m(\u001b[49m\u001b[43mjob_title\u001b[49m\u001b[43m,\u001b[49m\u001b[43m \u001b[49m\u001b[43mlocation\u001b[49m\u001b[43m)\u001b[49m\n\u001b[1;32m     18\u001b[0m         jobs_list, num_listings \u001b[38;5;241m=\u001b[39m extract_job_information_indeed(job_soup, desired_characs)\n\u001b[1;32m     20\u001b[0m     save_jobs_to_excel(jobs_list, filename)\n",
      "File \u001b[0;32m~/jobscrapper/job_scraper.py:42\u001b[0m, in \u001b[0;36mload_indeed_jobs_div\u001b[0;34m(job_title, location)\u001b[0m\n\u001b[1;32m     40\u001b[0m \u001b[38;5;66;03m# headers = {'User-Agent': 'Mozilla/5.0 (X11; Fedora; Linux x86_64; rv:102.0) Gecko/20100101 Firefox/102.0'}\u001b[39;00m\n\u001b[1;32m     41\u001b[0m scraper \u001b[38;5;241m=\u001b[39m cloudscraper\u001b[38;5;241m.\u001b[39mcreate_scraper()\n\u001b[0;32m---> 42\u001b[0m x \u001b[38;5;241m=\u001b[39m \u001b[43mscraper\u001b[49m\u001b[38;5;241;43m.\u001b[39;49m\u001b[43mget\u001b[49m\u001b[43m(\u001b[49m\u001b[43murl\u001b[49m\u001b[43m)\u001b[49m\n\u001b[1;32m     43\u001b[0m \u001b[38;5;28mprint\u001b[39m(x\u001b[38;5;241m.\u001b[39mstatus_code)\n\u001b[1;32m     44\u001b[0m page \u001b[38;5;241m=\u001b[39m scraper\u001b[38;5;241m.\u001b[39mget(url)\n",
      "File \u001b[0;32m~/opt/anaconda3/envs/jobs/lib/python3.8/site-packages/requests/sessions.py:600\u001b[0m, in \u001b[0;36mSession.get\u001b[0;34m(self, url, **kwargs)\u001b[0m\n\u001b[1;32m    592\u001b[0m \u001b[38;5;124mr\u001b[39m\u001b[38;5;124;03m\"\"\"Sends a GET request. Returns :class:`Response` object.\u001b[39;00m\n\u001b[1;32m    593\u001b[0m \n\u001b[1;32m    594\u001b[0m \u001b[38;5;124;03m:param url: URL for the new :class:`Request` object.\u001b[39;00m\n\u001b[1;32m    595\u001b[0m \u001b[38;5;124;03m:param \\*\\*kwargs: Optional arguments that ``request`` takes.\u001b[39;00m\n\u001b[1;32m    596\u001b[0m \u001b[38;5;124;03m:rtype: requests.Response\u001b[39;00m\n\u001b[1;32m    597\u001b[0m \u001b[38;5;124;03m\"\"\"\u001b[39;00m\n\u001b[1;32m    599\u001b[0m kwargs\u001b[38;5;241m.\u001b[39msetdefault(\u001b[38;5;124m\"\u001b[39m\u001b[38;5;124mallow_redirects\u001b[39m\u001b[38;5;124m\"\u001b[39m, \u001b[38;5;28;01mTrue\u001b[39;00m)\n\u001b[0;32m--> 600\u001b[0m \u001b[38;5;28;01mreturn\u001b[39;00m \u001b[38;5;28;43mself\u001b[39;49m\u001b[38;5;241;43m.\u001b[39;49m\u001b[43mrequest\u001b[49m\u001b[43m(\u001b[49m\u001b[38;5;124;43m\"\u001b[39;49m\u001b[38;5;124;43mGET\u001b[39;49m\u001b[38;5;124;43m\"\u001b[39;49m\u001b[43m,\u001b[49m\u001b[43m \u001b[49m\u001b[43murl\u001b[49m\u001b[43m,\u001b[49m\u001b[43m \u001b[49m\u001b[38;5;241;43m*\u001b[39;49m\u001b[38;5;241;43m*\u001b[39;49m\u001b[43mkwargs\u001b[49m\u001b[43m)\u001b[49m\n",
      "File \u001b[0;32m~/opt/anaconda3/envs/jobs/lib/python3.8/site-packages/cloudscraper/__init__.py:289\u001b[0m, in \u001b[0;36mCloudScraper.request\u001b[0;34m(self, method, url, *args, **kwargs)\u001b[0m\n\u001b[1;32m    283\u001b[0m cloudflareV1 \u001b[38;5;241m=\u001b[39m Cloudflare(\u001b[38;5;28mself\u001b[39m)\n\u001b[1;32m    285\u001b[0m \u001b[38;5;66;03m# ------------------------------------------------------------------------------- #\u001b[39;00m\n\u001b[1;32m    286\u001b[0m \u001b[38;5;66;03m# Check if Cloudflare v1 anti-bot is on\u001b[39;00m\n\u001b[1;32m    287\u001b[0m \u001b[38;5;66;03m# ------------------------------------------------------------------------------- #\u001b[39;00m\n\u001b[0;32m--> 289\u001b[0m \u001b[38;5;28;01mif\u001b[39;00m \u001b[43mcloudflareV1\u001b[49m\u001b[38;5;241;43m.\u001b[39;49m\u001b[43mis_Challenge_Request\u001b[49m\u001b[43m(\u001b[49m\u001b[43mresponse\u001b[49m\u001b[43m)\u001b[49m:\n\u001b[1;32m    290\u001b[0m     \u001b[38;5;66;03m# ------------------------------------------------------------------------------- #\u001b[39;00m\n\u001b[1;32m    291\u001b[0m     \u001b[38;5;66;03m# Try to solve the challenge and send it back\u001b[39;00m\n\u001b[1;32m    292\u001b[0m     \u001b[38;5;66;03m# ------------------------------------------------------------------------------- #\u001b[39;00m\n\u001b[1;32m    294\u001b[0m     \u001b[38;5;28;01mif\u001b[39;00m \u001b[38;5;28mself\u001b[39m\u001b[38;5;241m.\u001b[39m_solveDepthCnt \u001b[38;5;241m>\u001b[39m\u001b[38;5;241m=\u001b[39m \u001b[38;5;28mself\u001b[39m\u001b[38;5;241m.\u001b[39msolveDepth:\n\u001b[1;32m    295\u001b[0m         _ \u001b[38;5;241m=\u001b[39m \u001b[38;5;28mself\u001b[39m\u001b[38;5;241m.\u001b[39m_solveDepthCnt\n",
      "File \u001b[0;32m~/opt/anaconda3/envs/jobs/lib/python3.8/site-packages/cloudscraper/cloudflare.py:178\u001b[0m, in \u001b[0;36mCloudflare.is_Challenge_Request\u001b[0;34m(self, resp)\u001b[0m\n\u001b[1;32m    172\u001b[0m     \u001b[38;5;28mself\u001b[39m\u001b[38;5;241m.\u001b[39mcloudscraper\u001b[38;5;241m.\u001b[39msimpleException(\n\u001b[1;32m    173\u001b[0m         CloudflareCode1020,\n\u001b[1;32m    174\u001b[0m         \u001b[38;5;124m'\u001b[39m\u001b[38;5;124mCloudflare has blocked this request (Code 1020 Detected).\u001b[39m\u001b[38;5;124m'\u001b[39m\n\u001b[1;32m    175\u001b[0m     )\n\u001b[1;32m    177\u001b[0m \u001b[38;5;28;01mif\u001b[39;00m \u001b[38;5;28mself\u001b[39m\u001b[38;5;241m.\u001b[39mis_New_Captcha_Challenge(resp):\n\u001b[0;32m--> 178\u001b[0m     \u001b[38;5;28;43mself\u001b[39;49m\u001b[38;5;241;43m.\u001b[39;49m\u001b[43mcloudscraper\u001b[49m\u001b[38;5;241;43m.\u001b[39;49m\u001b[43msimpleException\u001b[49m\u001b[43m(\u001b[49m\n\u001b[1;32m    179\u001b[0m \u001b[43m        \u001b[49m\u001b[43mCloudflareChallengeError\u001b[49m\u001b[43m,\u001b[49m\n\u001b[1;32m    180\u001b[0m \u001b[43m        \u001b[49m\u001b[38;5;124;43m'\u001b[39;49m\u001b[38;5;124;43mDetected a Cloudflare version 2 Captcha challenge, This feature is not available in the opensource (free) version.\u001b[39;49m\u001b[38;5;124;43m'\u001b[39;49m\n\u001b[1;32m    181\u001b[0m \u001b[43m    \u001b[49m\u001b[43m)\u001b[49m\n\u001b[1;32m    183\u001b[0m \u001b[38;5;28;01mif\u001b[39;00m \u001b[38;5;28mself\u001b[39m\u001b[38;5;241m.\u001b[39mis_New_IUAM_Challenge(resp):\n\u001b[1;32m    184\u001b[0m     \u001b[38;5;28mself\u001b[39m\u001b[38;5;241m.\u001b[39mcloudscraper\u001b[38;5;241m.\u001b[39msimpleException(\n\u001b[1;32m    185\u001b[0m         CloudflareChallengeError,\n\u001b[1;32m    186\u001b[0m         \u001b[38;5;124m'\u001b[39m\u001b[38;5;124mDetected a Cloudflare version 2 challenge, This feature is not available in the opensource (free) version.\u001b[39m\u001b[38;5;124m'\u001b[39m\n\u001b[1;32m    187\u001b[0m     )\n",
      "File \u001b[0;32m~/opt/anaconda3/envs/jobs/lib/python3.8/site-packages/cloudscraper/__init__.py:199\u001b[0m, in \u001b[0;36mCloudScraper.simpleException\u001b[0;34m(self, exception, msg)\u001b[0m\n\u001b[1;32m    197\u001b[0m \u001b[38;5;28mself\u001b[39m\u001b[38;5;241m.\u001b[39m_solveDepthCnt \u001b[38;5;241m=\u001b[39m \u001b[38;5;241m0\u001b[39m\n\u001b[1;32m    198\u001b[0m sys\u001b[38;5;241m.\u001b[39mtracebacklimit \u001b[38;5;241m=\u001b[39m \u001b[38;5;241m0\u001b[39m\n\u001b[0;32m--> 199\u001b[0m \u001b[38;5;28;01mraise\u001b[39;00m exception(msg)\n",
      "\u001b[0;31mCloudflareChallengeError\u001b[0m: Detected a Cloudflare version 2 Captcha challenge, This feature is not available in the opensource (free) version."
     ]
    }
   ],
   "source": [
    "find_jobs_from('Indeed', 'microbiologist', 'anaheim', desired_characs)"
   ]
  },
  {
   "cell_type": "code",
   "execution_count": null,
   "id": "e19ecc53-8b63-4c2f-8668-e1435ba3ebb9",
   "metadata": {},
   "outputs": [],
   "source": []
  }
 ],
 "metadata": {
  "kernelspec": {
   "display_name": "Python 3 (ipykernel)",
   "language": "python",
   "name": "python3"
  },
  "language_info": {
   "codemirror_mode": {
    "name": "ipython",
    "version": 3
   },
   "file_extension": ".py",
   "mimetype": "text/x-python",
   "name": "python",
   "nbconvert_exporter": "python",
   "pygments_lexer": "ipython3",
   "version": "3.8.0"
  }
 },
 "nbformat": 4,
 "nbformat_minor": 5
}
