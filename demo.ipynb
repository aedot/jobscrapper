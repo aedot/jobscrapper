{
 "cells": [
  {
   "cell_type": "code",
   "execution_count": 1,
   "id": "2118c9c1-b541-4ac0-8d78-4c4332edb829",
   "metadata": {},
   "outputs": [],
   "source": [
    "import job_scraper\n",
    "from job_scraper import find_jobs_from"
   ]
  },
  {
   "cell_type": "code",
   "execution_count": 2,
   "id": "cd10e9f7-cdf6-4252-8fb4-aabfad07b282",
   "metadata": {},
   "outputs": [],
   "source": [
    "desired_characs = ['titles', 'companies', 'links', 'date_listed']"
   ]
  },
  {
   "cell_type": "code",
   "execution_count": 3,
   "id": "d17f0ea6-4c0f-40b1-993e-8c9bf4e1200f",
   "metadata": {},
   "outputs": [
    {
     "ename": "AttributeError",
     "evalue": "'NoneType' object has no attribute 'find_all'",
     "output_type": "error",
     "traceback": [
      "\u001b[0;31m---------------------------------------------------------------------------\u001b[0m",
      "\u001b[0;31mAttributeError\u001b[0m                            Traceback (most recent call last)",
      "Cell \u001b[0;32mIn [3], line 1\u001b[0m\n\u001b[0;32m----> 1\u001b[0m \u001b[43mfind_jobs_from\u001b[49m\u001b[43m(\u001b[49m\u001b[38;5;124;43m'\u001b[39;49m\u001b[38;5;124;43mIndeed\u001b[39;49m\u001b[38;5;124;43m'\u001b[39;49m\u001b[43m,\u001b[49m\u001b[43m \u001b[49m\u001b[38;5;124;43m'\u001b[39;49m\u001b[38;5;124;43mmicrobiologist\u001b[39;49m\u001b[38;5;124;43m'\u001b[39;49m\u001b[43m,\u001b[49m\u001b[43m \u001b[49m\u001b[38;5;124;43m'\u001b[39;49m\u001b[38;5;124;43manaheim\u001b[39;49m\u001b[38;5;124;43m'\u001b[39;49m\u001b[43m,\u001b[49m\u001b[43m \u001b[49m\u001b[43mdesired_characs\u001b[49m\u001b[43m)\u001b[49m\n",
      "File \u001b[0;32m~/jobsearch/job_scraper.py:15\u001b[0m, in \u001b[0;36mfind_jobs_from\u001b[0;34m(website, job_title, location, desired_characs, filename)\u001b[0m\n\u001b[1;32m     13\u001b[0m \u001b[38;5;28;01mif\u001b[39;00m website \u001b[38;5;241m==\u001b[39m \u001b[38;5;124m'\u001b[39m\u001b[38;5;124mIndeed\u001b[39m\u001b[38;5;124m'\u001b[39m:\n\u001b[1;32m     14\u001b[0m     job_soup \u001b[38;5;241m=\u001b[39m load_indeed_jobs_div(job_title, location)\n\u001b[0;32m---> 15\u001b[0m     jobs_list, num_listings \u001b[38;5;241m=\u001b[39m \u001b[43mextract_job_information_indeed\u001b[49m\u001b[43m(\u001b[49m\u001b[43mjob_soup\u001b[49m\u001b[43m,\u001b[49m\u001b[43m \u001b[49m\u001b[43mdesired_characs\u001b[49m\u001b[43m)\u001b[49m\n\u001b[1;32m     17\u001b[0m save_jobs_to_excel(jobs_list, filename)\n\u001b[1;32m     19\u001b[0m \u001b[38;5;28mprint\u001b[39m(\u001b[38;5;124m'\u001b[39m\u001b[38;5;132;01m{}\u001b[39;00m\u001b[38;5;124m new job postings retrieved from \u001b[39m\u001b[38;5;132;01m{}\u001b[39;00m\u001b[38;5;124m. Stored in \u001b[39m\u001b[38;5;132;01m{}\u001b[39;00m\u001b[38;5;124m.\u001b[39m\u001b[38;5;124m'\u001b[39m\u001b[38;5;241m.\u001b[39mformat(num_listings, website, filename))\n",
      "File \u001b[0;32m~/jobsearch/job_scraper.py:43\u001b[0m, in \u001b[0;36mextract_job_information_indeed\u001b[0;34m(job_soup, desired_characs)\u001b[0m\n\u001b[1;32m     42\u001b[0m \u001b[38;5;28;01mdef\u001b[39;00m \u001b[38;5;21mextract_job_information_indeed\u001b[39m(job_soup, desired_characs):\n\u001b[0;32m---> 43\u001b[0m     job_elems \u001b[38;5;241m=\u001b[39m \u001b[43mjob_soup\u001b[49m\u001b[38;5;241;43m.\u001b[39;49m\u001b[43mfind_all\u001b[49m(\u001b[38;5;124m'\u001b[39m\u001b[38;5;124mdiv\u001b[39m\u001b[38;5;124m'\u001b[39m, class_\u001b[38;5;241m=\u001b[39m\u001b[38;5;124m'\u001b[39m\u001b[38;5;124mjobsearch-ResultsList\u001b[39m\u001b[38;5;124m'\u001b[39m)\n\u001b[1;32m     45\u001b[0m     cols \u001b[38;5;241m=\u001b[39m []\n\u001b[1;32m     46\u001b[0m     extracted_info \u001b[38;5;241m=\u001b[39m []\n",
      "\u001b[0;31mAttributeError\u001b[0m: 'NoneType' object has no attribute 'find_all'"
     ]
    }
   ],
   "source": [
    "find_jobs_from('Indeed', 'microbiologist', 'anaheim', desired_characs)"
   ]
  },
  {
   "cell_type": "code",
   "execution_count": null,
   "id": "e19ecc53-8b63-4c2f-8668-e1435ba3ebb9",
   "metadata": {},
   "outputs": [],
   "source": []
  }
 ],
 "metadata": {
  "kernelspec": {
   "display_name": "Python 3 (ipykernel)",
   "language": "python",
   "name": "python3"
  },
  "language_info": {
   "codemirror_mode": {
    "name": "ipython",
    "version": 3
   },
   "file_extension": ".py",
   "mimetype": "text/x-python",
   "name": "python",
   "nbconvert_exporter": "python",
   "pygments_lexer": "ipython3",
   "version": "3.8.0"
  }
 },
 "nbformat": 4,
 "nbformat_minor": 5
}
